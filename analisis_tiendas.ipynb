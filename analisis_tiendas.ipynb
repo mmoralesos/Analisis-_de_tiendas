{
 "cells": [
  {
   "cell_type": "markdown",
   "id": "e5656b66",
   "metadata": {},
   "source": [
    "# 🛍️ Análisis de Tiendas\n",
    "Este notebook realiza un análisis de ventas, calificaciones, y envíos para 4 tiendas usando Python."
   ]
  },
  {
   "cell_type": "code",
   "execution_count": null,
   "id": "30506ba9",
   "metadata": {},
   "outputs": [],
   "source": [
    "import pandas as pd\n",
    "import matplotlib.pyplot as plt\n",
    "\n",
    "plt.style.use('ggplot')"
   ]
  },
  {
   "cell_type": "markdown",
   "id": "8e0fac3e",
   "metadata": {},
   "source": [
    "## 1. Carga de Datos"
   ]
  },
  {
   "cell_type": "code",
   "execution_count": null,
   "id": "35741f6a",
   "metadata": {},
   "outputs": [],
   "source": [
    "urls = [\n",
    "    \"https://raw.githubusercontent.com/alura-es-cursos/challenge1-data-science-latam/refs/heads/main/base-de-datos-challenge1-latam/tienda_1%20.csv\",\n",
    "    \"https://raw.githubusercontent.com/alura-es-cursos/challenge1-data-science-latam/refs/heads/main/base-de-datos-challenge1-latam/tienda_2.csv\",\n",
    "    \"https://raw.githubusercontent.com/alura-es-cursos/challenge1-data-science-latam/refs/heads/main/base-de-datos-challenge1-latam/tienda_3.csv\",\n",
    "    \"https://raw.githubusercontent.com/alura-es-cursos/challenge1-data-science-latam/refs/heads/main/base-de-datos-challenge1-latam/tienda_4.csv\"\n",
    "]\n",
    "tiendas = [pd.read_csv(url) for url in urls]"
   ]
  },
  {
   "cell_type": "markdown",
   "id": "05411fa1",
   "metadata": {},
   "source": [
    "## 2. Facturación Total"
   ]
  },
  {
   "cell_type": "code",
   "execution_count": null,
   "id": "892653dc",
   "metadata": {},
   "outputs": [],
   "source": [
    "def calcular_facturacion_total(df):\n",
    "    return float(df[\"Precio\"].sum())\n",
    "\n",
    "facturacion = [calcular_facturacion_total(t) for t in tiendas]\n",
    "tiendas_nombres = [f\"Tienda{i+1}\" for i in range(4)]\n",
    "\n",
    "fact_df = pd.DataFrame({\"Tienda\": tiendas_nombres, \"Facturación\": facturacion})\n",
    "fact_df.plot(kind=\"bar\", x=\"Tienda\", y=\"Facturación\", color='blue', title=\"Facturación total por tienda\")\n",
    "plt.ylabel(\"Total (USD)\")\n",
    "plt.tight_layout()\n",
    "plt.show()"
   ]
  },
  {
   "cell_type": "markdown",
   "id": "67f9ccc6",
   "metadata": {},
   "source": [
    "## 3. Calificación Promedio"
   ]
  },
  {
   "cell_type": "code",
   "execution_count": null,
   "id": "1f9d587f",
   "metadata": {},
   "outputs": [],
   "source": [
    "def calificacion_promedio(df):\n",
    "    return round(df[\"Calificación\"].mean(), 1)\n",
    "\n",
    "calificaciones = [calificacion_promedio(t) for t in tiendas]\n",
    "plt.plot(tiendas_nombres, calificaciones, marker='o', linestyle='--', color='green')\n",
    "plt.title(\"Calificación promedio por tienda\")\n",
    "plt.ylabel(\"Calificación\")\n",
    "plt.tight_layout()\n",
    "plt.show()"
   ]
  },
  {
   "cell_type": "markdown",
   "id": "0c2a0ed6",
   "metadata": {},
   "source": [
    "## 4. Productos Más y Menos Vendidos (Tienda 1)"
   ]
  },
  {
   "cell_type": "code",
   "execution_count": null,
   "id": "2a0f45a5",
   "metadata": {},
   "outputs": [],
   "source": [
    "def productos_extremos(df):\n",
    "    agrupado = df.groupby(\"Producto\")[\"Precio\"].sum().sort_values(ascending=False)\n",
    "    return agrupado.head(1), agrupado.tail(1)\n",
    "\n",
    "maximo, minimo = productos_extremos(tiendas[0])\n",
    "\n",
    "productos = maximo.index.tolist() + minimo.index.tolist()\n",
    "valores = maximo.values.tolist() + minimo.values.tolist()\n",
    "colores = ['green', 'red']\n",
    "\n",
    "plt.figure(figsize=(8, 5))\n",
    "plt.bar(productos, valores, color=colores)\n",
    "plt.title(\"Productos más y menos vendidos\")\n",
    "plt.xlabel(\"Producto\")\n",
    "plt.ylabel(\"Suma de precios\")\n",
    "plt.xticks(rotation=45)\n",
    "plt.tight_layout()\n",
    "plt.show()"
   ]
  },
  {
   "cell_type": "markdown",
   "id": "679961d0",
   "metadata": {},
   "source": [
    "## 5. Costo de Envío Promedio"
   ]
  },
  {
   "cell_type": "code",
   "execution_count": null,
   "id": "d50ca74d",
   "metadata": {},
   "outputs": [],
   "source": [
    "def costo_envio_promedio(df):\n",
    "    return round(df[\"Costo de envío\"].mean(), 1)\n",
    "\n",
    "costos = [costo_envio_promedio(t) for t in tiendas]\n",
    "plt.bar(tiendas_nombres, costos, color='red')\n",
    "plt.title(\"Costo de envío promedio por tienda\")\n",
    "plt.ylabel(\"Costo promedio (USD)\")\n",
    "plt.tight_layout()\n",
    "plt.show()"
   ]
  },
  {
   "cell_type": "markdown",
   "id": "4eedb1f8",
   "metadata": {},
   "source": [
    "## 📌 Conclusiones\n",
    "- La **Tienda 4** presenta la facturación más baja y podría representar una oportunidad de reestructuración o venta.\n",
    "- La **Tienda 1** genera mayores ventas y justifica su mayor costo de envío.\n",
    "- Las calificaciones son similares entre tiendas, por lo tanto, no hay una diferencia sustancial en experiencia del cliente."
   ]
  }
 ],
 "metadata": {},
 "nbformat": 4,
 "nbformat_minor": 5
}
